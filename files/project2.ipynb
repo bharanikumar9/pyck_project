{
  "nbformat": 4,
  "nbformat_minor": 0,
  "metadata": {
    "colab": {
      "name": "project2.ipynb",
      "provenance": [],
      "collapsed_sections": []
    },
    "kernelspec": {
      "name": "python3",
      "display_name": "Python 3"
    },
    "language_info": {
      "name": "python"
    }
  },
  "cells": [
    {
      "cell_type": "code",
      "metadata": {
        "id": "8pVritOOKHfe"
      },
      "source": [
        "import struct\n",
        "import numpy as np\n",
        "import matplotlib.pyplot as plt\n",
        "from keras.models import Model\n",
        "from keras.layers import Conv2D\n",
        "from keras.layers import Input\n",
        "from keras.layers import BatchNormalization\n",
        "from keras.layers import LeakyReLU\n",
        "from keras.layers import ZeroPadding2D\n",
        "from keras.layers import UpSampling2D\n",
        "from keras.layers.merge import add, concatenate\n",
        "from keras.preprocessing.image import load_img, img_to_array\n",
        "from keras.backend import expand_dims\n",
        "from matplotlib.patches import Rectangle\n",
        "import cv2"
      ],
      "execution_count": null,
      "outputs": []
    },
    {
      "cell_type": "code",
      "metadata": {
        "id": "2JZS9JO0KJoo"
      },
      "source": [
        "def _conv_block(inp, convs, skip=True):\n",
        "    x = inp\n",
        "    count = 0\n",
        "    for conv in convs:\n",
        "        if count == (len(convs) - 2) and skip:\n",
        "            skip_connection = x\n",
        "        count += 1\n",
        "        if conv['stride'] > 1: x = ZeroPadding2D(((1,0),(1,0)))(x)\n",
        "        x = Conv2D(conv['filter'],\n",
        "                    conv['kernel'],\n",
        "                    strides=conv['stride'],\n",
        "                    padding='valid' if conv['stride'] > 1 else 'same',\n",
        "                    name='conv_' + str(conv['layer_idx']),\n",
        "                    use_bias=False if conv['bnorm'] else True)(x)\n",
        "        if conv['bnorm']: x = BatchNormalization(epsilon=0.001, name='bnorm_' +\n",
        "            str(conv['layer_idx']))(x)\n",
        "        if conv['leaky']: x = LeakyReLU(alpha=0.1, name='leaky_' + str(conv['layer_idx']))(x)\n",
        "    return add([skip_connection, x]) if skip else x"
      ],
      "execution_count": null,
      "outputs": []
    },
    {
      "cell_type": "code",
      "metadata": {
        "id": "h_i-nkXTK6xK"
      },
      "source": [
        "def make_yolov3_model():\n",
        "    input_image = Input(shape=(None, None, 3))\n",
        "    x = _conv_block(input_image, [{'filter': 32, 'kernel': 3, 'stride': 1, 'bnorm': True,\n",
        "        'leaky': True, 'layer_idx': 0},\n",
        "                {'filter': 64, 'kernel': 3, 'stride': 2, 'bnorm': True, 'leaky': True,\n",
        "                    'layer_idx': 1},\n",
        "                {'filter': 32, 'kernel': 1, 'stride': 1, 'bnorm': True, 'leaky': True,\n",
        "                    'layer_idx': 2},\n",
        "                {'filter': 64, 'kernel': 3, 'stride': 1, 'bnorm': True, 'leaky': True,\n",
        "                    'layer_idx': 3}])\n",
        "    x = _conv_block(x, [{'filter': 128, 'kernel': 3, 'stride': 2, 'bnorm': True, 'leaky':\n",
        "            True, 'layer_idx': 5},\n",
        "                {'filter': 64, 'kernel': 1, 'stride': 1, 'bnorm': True, 'leaky': True,\n",
        "                    'layer_idx': 6},\n",
        "                {'filter': 128, 'kernel': 3, 'stride': 1, 'bnorm': True, 'leaky': True,\n",
        "                    'layer_idx': 7}])\n",
        "    x = _conv_block(x, [{'filter': 64, 'kernel': 1, 'stride': 1, 'bnorm': True, 'leaky':\n",
        "            True, 'layer_idx': 9},\n",
        "                {'filter': 128, 'kernel': 3, 'stride': 1, 'bnorm': True, 'leaky': True,\n",
        "                    'layer_idx': 10}])\n",
        "    x = _conv_block(x, [{'filter': 256, 'kernel': 3, 'stride': 2, 'bnorm': True, 'leaky':\n",
        "            True, 'layer_idx': 12},\n",
        "                {'filter': 128, 'kernel': 1, 'stride': 1, 'bnorm': True, 'leaky': True,\n",
        "                    'layer_idx': 13},\n",
        "                {'filter': 256, 'kernel': 3, 'stride': 1, 'bnorm': True, 'leaky': True,\n",
        "                    'layer_idx': 14}])\n",
        "    for i in range(7):\n",
        "        x = _conv_block(x, [{'filter': 128, 'kernel': 1, 'stride': 1, 'bnorm': True, 'leaky':\n",
        "            True, 'layer_idx': 16+i*3},\n",
        "                {'filter': 256, 'kernel': 3, 'stride': 1, 'bnorm': True, 'leaky': True,\n",
        "                    'layer_idx': 17+i*3}])\n",
        "    skip_36 = x\n",
        "    x = _conv_block(x, [{'filter': 512, 'kernel': 3, 'stride': 2, 'bnorm': True, 'leaky':\n",
        "            True, 'layer_idx': 37},\n",
        "                {'filter': 256, 'kernel': 1, 'stride': 1, 'bnorm': True, 'leaky': True,\n",
        "                    'layer_idx': 38},\n",
        "                {'filter': 512, 'kernel': 3, 'stride': 1, 'bnorm': True, 'leaky': True,\n",
        "                    'layer_idx': 39}])\n",
        "    for i in range(7):\n",
        "        x = _conv_block(x, [{'filter': 256, 'kernel': 1, 'stride': 1, 'bnorm': True, 'leaky':\n",
        "            True, 'layer_idx': 41+i*3},\n",
        "                {'filter': 512, 'kernel': 3, 'stride': 1, 'bnorm': True, 'leaky': True,\n",
        "                    'layer_idx': 42+i*3}])\n",
        "    skip_61 = x\n",
        "    x = _conv_block(x, [{'filter': 1024, 'kernel': 3, 'stride': 2, 'bnorm': True, 'leaky':\n",
        "        True, 'layer_idx': 62},\n",
        "            {'filter': 512, 'kernel': 1, 'stride': 1, 'bnorm': True, 'leaky': True,\n",
        "                'layer_idx': 63},\n",
        "            {'filter': 1024, 'kernel': 3, 'stride': 1, 'bnorm': True, 'leaky': True,\n",
        "                'layer_idx': 64}])\n",
        "    for i in range(3):\n",
        "        x = _conv_block(x, [{'filter': 512, 'kernel': 1, 'stride': 1, 'bnorm': True, 'leaky':\n",
        "            True, 'layer_idx': 66+i*3},\n",
        "                {'filter': 1024, 'kernel': 3, 'stride': 1, 'bnorm': True, 'leaky': True,\n",
        "                    'layer_idx': 67+i*3}])\n",
        "    x = _conv_block(x, [{'filter': 512, 'kernel': 1, 'stride': 1, 'bnorm': True, 'leaky':\n",
        "        True, 'layer_idx': 75},\n",
        "            {'filter': 1024, 'kernel': 3, 'stride': 1, 'bnorm': True, 'leaky': True,\n",
        "                'layer_idx': 76},\n",
        "            {'filter': 512, 'kernel': 1, 'stride': 1, 'bnorm': True, 'leaky': True,\n",
        "                'layer_idx': 77},\n",
        "            {'filter': 1024, 'kernel': 3, 'stride': 1, 'bnorm': True, 'leaky': True,\n",
        "                'layer_idx': 78},\n",
        "            {'filter': 512, 'kernel': 1, 'stride': 1, 'bnorm': True, 'leaky': True,\n",
        "                'layer_idx': 79}], skip=False)\n",
        "    yolo_82 = _conv_block(x, [{'filter': 1024, 'kernel': 3, 'stride': 1, 'bnorm': True,\n",
        "        'leaky': True, 'layer_idx': 80},\n",
        "            {'filter': 255, 'kernel': 1, 'stride': 1, 'bnorm': False, 'leaky': False,\n",
        "                'layer_idx': 81}], skip=False)\n",
        "    x = _conv_block(x, [{'filter': 256, 'kernel': 1, 'stride': 1, 'bnorm': True, 'leaky':\n",
        "        True, 'layer_idx': 84}], skip=False)\n",
        "    x = UpSampling2D(2)(x)\n",
        "    x = concatenate([x, skip_61])\n",
        "    x = _conv_block(x, [{'filter': 256, 'kernel': 1, 'stride': 1, 'bnorm': True, 'leaky':\n",
        "    True, 'layer_idx': 87},\n",
        "        {'filter': 512, 'kernel': 3, 'stride': 1, 'bnorm': True, 'leaky': True,\n",
        "            'layer_idx': 88},\n",
        "        {'filter': 256, 'kernel': 1, 'stride': 1, 'bnorm': True, 'leaky': True,\n",
        "            'layer_idx': 89},\n",
        "        {'filter': 512, 'kernel': 3, 'stride': 1, 'bnorm': True, 'leaky': True,\n",
        "            'layer_idx': 90},\n",
        "        {'filter': 256, 'kernel': 1, 'stride': 1, 'bnorm': True, 'leaky': True,\n",
        "            'layer_idx': 91}], skip=False)\n",
        "    yolo_94 = _conv_block(x, [{'filter': 512, 'kernel': 3, 'stride': 1, 'bnorm': True,\n",
        "        'leaky': True, 'layer_idx': 92},\n",
        "            {'filter': 255, 'kernel': 1, 'stride': 1, 'bnorm': False, 'leaky': False,\n",
        "                'layer_idx': 93}], skip=False)\n",
        "    x = _conv_block(x, [{'filter': 128, 'kernel': 1, 'stride': 1, 'bnorm': True, 'leaky':\n",
        "        True, 'layer_idx': 96}], skip=False)\n",
        "    x = UpSampling2D(2)(x)\n",
        "    x = concatenate([x, skip_36])\n",
        "    yolo_106 = _conv_block(x, [{'filter': 128, 'kernel': 1, 'stride': 1, 'bnorm': True,\n",
        "        'leaky': True, 'layer_idx': 99},\n",
        "            {'filter': 256, 'kernel': 3, 'stride': 1, 'bnorm': True, 'leaky': True,\n",
        "                'layer_idx': 100},\n",
        "            {'filter': 128, 'kernel': 1, 'stride': 1, 'bnorm': True, 'leaky': True,\n",
        "                'layer_idx': 101},\n",
        "            {'filter': 256, 'kernel': 3, 'stride': 1, 'bnorm': True, 'leaky': True,\n",
        "                'layer_idx': 102},\n",
        "            {'filter': 128, 'kernel': 1, 'stride': 1, 'bnorm': True, 'leaky': True,\n",
        "                'layer_idx': 103},\n",
        "            {'filter': 256, 'kernel': 3, 'stride': 1, 'bnorm': True, 'leaky': True,\n",
        "                'layer_idx': 104},\n",
        "            {'filter': 255, 'kernel': 1, 'stride': 1, 'bnorm': False, 'leaky': False,\n",
        "                'layer_idx': 105}], skip=False)\n",
        "    model = Model(input_image, [yolo_82, yolo_94, yolo_106])\n",
        "    return model"
      ],
      "execution_count": null,
      "outputs": []
    },
    {
      "cell_type": "code",
      "metadata": {
        "id": "0SK66NpKK69z"
      },
      "source": [
        "class WeightReader:\n",
        "    def __init__(self, weight_file):\n",
        "        with open(weight_file, 'rb') as w_f:\n",
        "            major, = struct.unpack('i', w_f.read(4))\n",
        "            minor, = struct.unpack('i', w_f.read(4))\n",
        "            revision, = struct.unpack('i', w_f.read(4))\n",
        "            if (major*10 + minor) >= 2 and major < 1000 and minor < 1000:\n",
        "                w_f.read(8)\n",
        "            else:\n",
        "                w_f.read(4)\n",
        "            transpose = (major > 1000) or (minor > 1000)\n",
        "            binary = w_f.read()\n",
        "        self.offset = 0\n",
        "        self.all_weights = np.frombuffer(binary, dtype='float32')\n",
        "    \n",
        "    def read_bytes(self, size):\n",
        "        self.offset = self.offset + size\n",
        "        return self.all_weights[self.offset-size:self.offset]\n",
        "    \n",
        "    def load_weights(self, model):\n",
        "        for i in range(106):\n",
        "            try:\n",
        "                conv_layer = model.get_layer('conv_' + str(i))\n",
        "                print(\"loading weights of convolution #\" + str(i))\n",
        "                if i not in [81, 93, 105]:\n",
        "                    norm_layer = model.get_layer('bnorm_' + str(i))\n",
        "                    size = np.prod(norm_layer.get_weights()[0].shape)\n",
        "                    beta = self.read_bytes(size)  # bias\n",
        "                    gamma = self.read_bytes(size) # scale\n",
        "                    mean = self.read_bytes(size)  # mean\n",
        "                    var = self.read_bytes(size)   # variance\n",
        "                    weights = norm_layer.set_weights([gamma, beta, mean, var])\n",
        "                if len(conv_layer.get_weights()) > 1:\n",
        "                    bias = self.read_bytes(np.prod(conv_layer.get_weights()[1].shape))\n",
        "                    kernel = self.read_bytes(np.prod(conv_layer.get_weights()[0].shape))\n",
        "                    kernel = kernel.reshape(list(reversed(conv_layer.get_weights()[0].shape)))\n",
        "                    kernel = kernel.transpose([2,3,1,0])\n",
        "                    conv_layer.set_weights([kernel, bias])\n",
        "                else:\n",
        "                    kernel = self.read_bytes(np.prod(conv_layer.get_weights()[0].shape))\n",
        "                    kernel = kernel.reshape(list(reversed(conv_layer.get_weights()[0].shape)))\n",
        "                    kernel = kernel.transpose([2,3,1,0])\n",
        "                    conv_layer.set_weights([kernel])\n",
        "            except ValueError:\n",
        "                print(\"no convolution #\" + str(i))\n",
        "    \n",
        "    def reset(self):\n",
        "        self.offset = 0"
      ],
      "execution_count": null,
      "outputs": []
    },
    {
      "cell_type": "code",
      "metadata": {
        "id": "tSy0lyP7LETS"
      },
      "source": [
        "model = make_yolov3_model()\n",
        "weight_reader = WeightReader('/content/drive/MyDrive/YOLO_WEIGHTS/yolov3.weights')\n",
        "weight_reader.load_weights(model)\n",
        "\n",
        "model.save('/content/drive/MyDrive/YOLO_WEIGHTS/model2.h5')"
      ],
      "execution_count": null,
      "outputs": []
    },
    {
      "cell_type": "code",
      "metadata": {
        "colab": {
          "base_uri": "https://localhost:8080/"
        },
        "id": "gPFaiPpQ1DfM",
        "outputId": "178c57c7-68e0-47e3-b87f-0aefade81891"
      },
      "source": [
        "from google.colab import drive\n",
        "drive.mount('/content/drive')"
      ],
      "execution_count": null,
      "outputs": [
        {
          "output_type": "stream",
          "text": [
            "Drive already mounted at /content/drive; to attempt to forcibly remount, call drive.mount(\"/content/drive\", force_remount=True).\n"
          ],
          "name": "stdout"
        }
      ]
    }
  ]
}